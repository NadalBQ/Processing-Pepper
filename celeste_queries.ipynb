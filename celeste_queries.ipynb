{
 "cells": [
  {
   "cell_type": "code",
   "execution_count": 9,
   "metadata": {},
   "outputs": [],
   "source": [
    "import requests\n",
    "import json"
   ]
  },
  {
   "cell_type": "code",
   "execution_count": 10,
   "metadata": {},
   "outputs": [],
   "source": [
    "query_template = \"https://www.speedrun.com/api/v1/runs?_bulk=1&game=o1y9j9v6&category=7kjpl1gk&status=verified&max=1000&direction={direction}&orderby=date&offset={offset}&embed=players\"\n",
    "filename_template = \"prototype data/celeste_{direction}_{offset}.json\"\n",
    "\n",
    "offset_list = range(0, 10000, 200)\n",
    "directions = [\"asc\", \"desc\"]\n",
    "\n",
    "query_params = ((dir, offset) for dir in directions for offset in offset_list)"
   ]
  },
  {
   "cell_type": "code",
   "execution_count": 11,
   "metadata": {},
   "outputs": [],
   "source": [
    "for direction, offset in query_params:\n",
    "    runs = requests.get(query_template.format(direction=direction, offset=offset)).json()\n",
    "    with open(filename_template.format(direction=direction, offset=offset), \"w\") as save_file:\n",
    "        save_file.write(json.dumps(runs, indent=2))"
   ]
  }
 ],
 "metadata": {
  "kernelspec": {
   "display_name": "Processing-Pepper-5sI7RxPO",
   "language": "python",
   "name": "python3"
  },
  "language_info": {
   "codemirror_mode": {
    "name": "ipython",
    "version": 3
   },
   "file_extension": ".py",
   "mimetype": "text/x-python",
   "name": "python",
   "nbconvert_exporter": "python",
   "pygments_lexer": "ipython3",
   "version": "3.10.14"
  }
 },
 "nbformat": 4,
 "nbformat_minor": 2
}
